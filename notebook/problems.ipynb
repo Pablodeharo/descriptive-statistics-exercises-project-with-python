{
    "cells": [
        {
            "cell_type": "markdown",
            "id": "ac622319",
            "metadata": {},
            "source": [
                "# Descriptive statistics problems"
            ]
        },
        {
            "cell_type": "markdown",
            "id": "aa8993e4",
            "metadata": {},
            "source": [
                "### Exercise 1"
            ]
        },
        {
            "cell_type": "markdown",
            "id": "5e0ab0d5",
            "metadata": {},
            "source": [
                "We will use Numpy to obtain information to describe statistically.\n",
                "\n",
                "- Generate an array of 100 elements following a normal distribution.\n",
                "- Generate an array of 100 elements following a chi-square distribution with 3 degrees of freedom.\n",
                "- Calculate the main metrics and statistical measures that best describe the two vectors."
            ]
        },
        {
            "cell_type": "code",
            "execution_count": 9,
            "id": "34720ab6",
            "metadata": {},
            "outputs": [
                {
                    "name": "stdout",
                    "output_type": "stream",
                    "text": [
                        "Distribución Normal:\n",
                        "Media 0.1440266250777764\n",
                        "Mediana 0.017856778365726068\n",
                        "Desviacion 0.9377979979291254\n",
                        "Varianza 0.879465084919876\n",
                        "\n",
                        "Distribución Chi-Cuadrado:\n",
                        "\n",
                        "Media 2.8867565173944754\n",
                        "Mediana 2.8867565173944754\n",
                        "Desviacion 2.428839803030146\n",
                        "Varianza 5.899262788783517\n"
                    ]
                },
                {
                    "data": {
                        "image/png": "[encoded data removed]",
                        "text/plain": [
                            "<Figure size 640x480 with 1 Axes>"
                        ]
                    },
                    "metadata": {},
                    "output_type": "display_data"
                },
                {
                    "data": {
                        "image/png": "[encoded data removed]",
                        "text/plain": [
                            "<Figure size 640x480 with 1 Axes>"
                        ]
                    },
                    "metadata": {},
                    "output_type": "display_data"
                }
            ],
            "source": [
                "# TODO\n",
                "import numpy as np\n",
                "import matplotlib.pyplot as plt\n",
                "\n",
                "# Creamos array distribucion normal\n",
                "array = np.random.normal(loc=0, scale=1, size=100)\n",
                "\n",
                "# Array chi al cuadrado\n",
                "array_chi = np.random.chisquare(df=3, size=100)\n",
                "\n",
                "# Calculamos media, mediana, desviacion y varianza\n",
                "media_array = np.mean(array)\n",
                "mediana_array = np.median(array)\n",
                "desviacion_array  = np.std(array)\n",
                "varianza_array = np.var(array)\n",
                "\n",
                "# Calculamos media, mediana, desviacion y varianza de chi\n",
                "media_array_chi = np.mean(array_chi)\n",
                "mediana_array_chi = np.median(array_chi)\n",
                "desviacion_array_chi = np.std(array_chi)\n",
                "varianza_array_chi = np.var(array_chi)\n",
                "\n",
                "# print\n",
                "print(\"Distribución Normal:\")\n",
                "\n",
                "print(\"Media\", media_array)\n",
                "print(\"Mediana\", mediana_array)\n",
                "print(\"Desviacion\", desviacion_array)\n",
                "print(\"Varianza\", varianza_array)\n",
                "print(\"\")\n",
                "print(\"Distribución Chi-Cuadrado:\")\n",
                "print(\"\")\n",
                "print(\"Media\", media_array_chi)\n",
                "print(\"Mediana\", media_array_chi)\n",
                "print(\"Desviacion\", desviacion_array_chi)\n",
                "print(\"Varianza\", varianza_array_chi)\n",
                "\n",
                "plt.subplot(1, 2, 1)\n",
                "plt.hist(array, bins=30, color='skyblue', edgecolor='black', alpha=0.7)\n",
                "plt.xlabel('Valor')\n",
                "plt.ylabel('Frecuencia')\n",
                "plt.title('Distribución Normal')\n",
                "plt.show()\n",
                "\n",
                "plt.subplot(1, 2, 2)\n",
                "plt.hist(array_chi, bins=30, color='orange', edgecolor='black', alpha=0.7)\n",
                "plt.xlabel('Valor')\n",
                "plt.ylabel('Frecuencia')\n",
                "plt.title('Distribución Chi-Cuadrado')\n",
                "plt.show()"
            ]
        },
        {
            "cell_type": "markdown",
            "id": "46c70c3d",
            "metadata": {},
            "source": [
                "### Exercise 2\n",
                "\n",
                "Write a Python program to calculate the standard deviation of the following data:\n",
                "\n",
                "```py\n",
                "data = [4, 2, 5, 8, 6]\n",
                "```"
            ]
        },
        {
            "cell_type": "code",
            "execution_count": 13,
            "id": "d590308e",
            "metadata": {},
            "outputs": [
                {
                    "name": "stdout",
                    "output_type": "stream",
                    "text": [
                        "La desviación estandar de los datos es: 2.23606797749979\n"
                    ]
                }
            ],
            "source": [
                "# Incorporamos la biblioteca statstics\n",
                "\n",
                "import statistics\n",
                "\n",
                "datos = [4, 2, 5, 8, 6]\n",
                "\n",
                "desviacion_estandar = statistics.stdev(datos)\n",
                "\n",
                "print(\"La desviación estandar de los datos es:\", desviacion_estandar)\n",
                "\n"
            ]
        }
    ],
    "metadata": {
        "interpreter": {
            "hash": "9248718ffe6ce6938b217e69dbcc175ea21f4c6b28a317e96c05334edae734bb"
        },
        "kernelspec": {
            "display_name": "Python 3.9.12 ('ML-BOOTCAMP')",
            "language": "python",
            "name": "python3"
        },
        "language_info": {
            "codemirror_mode": {
                "name": "ipython",
                "version": 3
            },
            "file_extension": ".py",
            "mimetype": "text/x-python",
            "name": "python",
            "nbconvert_exporter": "python",
            "pygments_lexer": "ipython3",
            "version": "3.11.4"
        }
    },
    "nbformat": 4,
    "nbformat_minor": 5
}
